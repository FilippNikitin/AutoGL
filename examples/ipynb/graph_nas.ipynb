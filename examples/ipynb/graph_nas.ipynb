{
 "cells": [
  {
   "cell_type": "markdown",
   "metadata": {},
   "source": [
    "# Graph NAS\n",
    "In this file we will give you a simple example to show how to use AutoGL to do graph neural architecture search.\n",
    "\n",
    "## Import libraries\n",
    "First, you should import some libraries and you can set the random seed before you train the model."
   ]
  },
  {
   "cell_type": "code",
   "execution_count": 1,
   "metadata": {},
   "outputs": [
    {
     "name": "stderr",
     "output_type": "stream",
     "text": [
      "WARNING:root:The OGB package is out of date. Your version is 1.3.3, while the latest version is 1.3.4.\n"
     ]
    }
   ],
   "source": [
    "from autogl.datasets import build_dataset_from_name\n",
    "from autogl.solver import AutoNodeClassifier\n",
    "from autogl.solver.utils import set_seed\n",
    "import argparse\n",
    "from autogl.backend import DependentBackend\n",
    "set_seed(202106)"
   ]
  },
  {
   "cell_type": "markdown",
   "metadata": {},
   "source": [
    "## Config & Dataset\n",
    "Then, you can load dataset and graph nas methods from configs"
   ]
  },
  {
   "cell_type": "code",
   "execution_count": 5,
   "metadata": {},
   "outputs": [
    {
     "name": "stdout",
     "output_type": "stream",
     "text": [
      "  NumNodes: 2708\n",
      "  NumEdges: 10556\n",
      "  NumFeats: 1433\n",
      "  NumClasses: 7\n",
      "  NumTrainingSamples: 140\n",
      "  NumValidationSamples: 500\n",
      "  NumTestSamples: 1000\n",
      "Done loading data from cached files.\n"
     ]
    }
   ],
   "source": [
    "def parse(args=None):\n",
    "    parser = argparse.ArgumentParser()\n",
    "    parser.add_argument('--config', type=str, default='../../configs/nodeclf_nas_macro_benchmark2.yml')\n",
    "    parser.add_argument('--dataset', choices=['cora', 'citeseer', 'pubmed'], default='cora', type=str)\n",
    "    args = parser.parse_args(args)\n",
    "    return args\n",
    "\n",
    "args = parse('')\n",
    "dataset = build_dataset_from_name(args.dataset)\n",
    "label = dataset[0].nodes.data[\"y\" if DependentBackend.is_pyg() else \"label\"][dataset[0].nodes.data[\"test_mask\"]].cpu().numpy()\n",
    "solver = AutoNodeClassifier.from_config(args.config)"
   ]
  },
  {
   "cell_type": "markdown",
   "metadata": {},
   "source": [
    "## Run "
   ]
  },
  {
   "cell_type": "code",
   "execution_count": 6,
   "metadata": {},
   "outputs": [
    {
     "name": "stderr",
     "output_type": "stream",
     "text": [
      "INFO:NodeClassifier:Use the default train/val/test ratio in given dataset\n"
     ]
    },
    {
     "name": "stdout",
     "output_type": "stream",
     "text": [
      "[2022-11-01 13:08:36] INFO (NodeClassifier/MainThread) Use the default train/val/test ratio in given dataset\n"
     ]
    },
    {
     "name": "stderr",
     "output_type": "stream",
     "text": [
      "WARNING:root:Ignore passed dec since enc is a whole model\n"
     ]
    },
    {
     "name": "stdout",
     "output_type": "stream",
     "text": [
      "[2022-11-01 13:10:56] WARNING (root/MainThread) Ignore passed dec since enc is a whole model\n",
      "HPO Search Phase:\n",
      "\n"
     ]
    },
    {
     "name": "stderr",
     "output_type": "stream",
     "text": [
      "  0%|          | 0/10 [00:00<?, ?it/s]WARNING:root:Ignore passed dec since enc is a whole model\n"
     ]
    },
    {
     "name": "stdout",
     "output_type": "stream",
     "text": [
      "[2022-11-01 13:10:56] WARNING (root/MainThread) Ignore passed dec since enc is a whole model\n"
     ]
    },
    {
     "name": "stderr",
     "output_type": "stream",
     "text": [
      "INFO:HPO:Parameter: {'trainer': {'max_epoch': 242, 'early_stopping_round': 25, 'lr': 0.0945732114302536, 'weight_decay': 0.00023354880267126047}, 'encoder': {}, 'decoder': {}} acc: 0.798 higher_better\n"
     ]
    },
    {
     "name": "stdout",
     "output_type": "stream",
     "text": [
      "[2022-11-01 13:10:57] INFO (HPO/MainThread) Parameter: {'trainer': {'max_epoch': 242, 'early_stopping_round': 25, 'lr': 0.0945732114302536, 'weight_decay': 0.00023354880267126047}, 'encoder': {}, 'decoder': {}} acc: 0.798 higher_better\n"
     ]
    },
    {
     "name": "stderr",
     "output_type": "stream",
     "text": [
      " 10%|█         | 1/10 [00:00<00:06,  1.43it/s]WARNING:root:Ignore passed dec since enc is a whole model\n"
     ]
    },
    {
     "name": "stdout",
     "output_type": "stream",
     "text": [
      "[2022-11-01 13:10:57] WARNING (root/MainThread) Ignore passed dec since enc is a whole model\n"
     ]
    },
    {
     "name": "stderr",
     "output_type": "stream",
     "text": [
      "INFO:HPO:Parameter: {'trainer': {'max_epoch': 375, 'early_stopping_round': 13, 'lr': 0.009232718824953728, 'weight_decay': 0.00043585682009482027}, 'encoder': {}, 'decoder': {}} acc: 0.778 higher_better\n"
     ]
    },
    {
     "name": "stdout",
     "output_type": "stream",
     "text": [
      "[2022-11-01 13:10:58] INFO (HPO/MainThread) Parameter: {'trainer': {'max_epoch': 375, 'early_stopping_round': 13, 'lr': 0.009232718824953728, 'weight_decay': 0.00043585682009482027}, 'encoder': {}, 'decoder': {}} acc: 0.778 higher_better\n"
     ]
    },
    {
     "name": "stderr",
     "output_type": "stream",
     "text": [
      " 20%|██        | 2/10 [00:02<00:08,  1.11s/it]WARNING:root:Ignore passed dec since enc is a whole model\n"
     ]
    },
    {
     "name": "stdout",
     "output_type": "stream",
     "text": [
      "[2022-11-01 13:10:59] WARNING (root/MainThread) Ignore passed dec since enc is a whole model\n"
     ]
    },
    {
     "name": "stderr",
     "output_type": "stream",
     "text": [
      "INFO:HPO:Parameter: {'trainer': {'max_epoch': 404, 'early_stopping_round': 13, 'lr': 0.032877712050977705, 'weight_decay': 0.0049837146504668394}, 'encoder': {}, 'decoder': {}} acc: 0.632 higher_better\n"
     ]
    },
    {
     "name": "stdout",
     "output_type": "stream",
     "text": [
      "[2022-11-01 13:11:01] INFO (HPO/MainThread) Parameter: {'trainer': {'max_epoch': 404, 'early_stopping_round': 13, 'lr': 0.032877712050977705, 'weight_decay': 0.0049837146504668394}, 'encoder': {}, 'decoder': {}} acc: 0.632 higher_better\n"
     ]
    },
    {
     "name": "stderr",
     "output_type": "stream",
     "text": [
      " 30%|███       | 3/10 [00:04<00:12,  1.75s/it]WARNING:root:Ignore passed dec since enc is a whole model\n"
     ]
    },
    {
     "name": "stdout",
     "output_type": "stream",
     "text": [
      "[2022-11-01 13:11:01] WARNING (root/MainThread) Ignore passed dec since enc is a whole model\n"
     ]
    },
    {
     "name": "stderr",
     "output_type": "stream",
     "text": [
      "INFO:HPO:Parameter: {'trainer': {'max_epoch': 219, 'early_stopping_round': 20, 'lr': 0.00011964857075036901, 'weight_decay': 0.00017540771286029562}, 'encoder': {}, 'decoder': {}} acc: 0.63 higher_better\n"
     ]
    },
    {
     "name": "stdout",
     "output_type": "stream",
     "text": [
      "[2022-11-01 13:11:06] INFO (HPO/MainThread) Parameter: {'trainer': {'max_epoch': 219, 'early_stopping_round': 20, 'lr': 0.00011964857075036901, 'weight_decay': 0.00017540771286029562}, 'encoder': {}, 'decoder': {}} acc: 0.63 higher_better\n"
     ]
    },
    {
     "name": "stderr",
     "output_type": "stream",
     "text": [
      " 40%|████      | 4/10 [00:09<00:17,  2.92s/it]WARNING:root:Ignore passed dec since enc is a whole model\n"
     ]
    },
    {
     "name": "stdout",
     "output_type": "stream",
     "text": [
      "[2022-11-01 13:11:06] WARNING (root/MainThread) Ignore passed dec since enc is a whole model\n"
     ]
    },
    {
     "name": "stderr",
     "output_type": "stream",
     "text": [
      "INFO:HPO:Parameter: {'trainer': {'max_epoch': 79, 'early_stopping_round': 14, 'lr': 0.0012055662705481014, 'weight_decay': 0.003750922137405541}, 'encoder': {}, 'decoder': {}} acc: 0.578 higher_better\n"
     ]
    },
    {
     "name": "stdout",
     "output_type": "stream",
     "text": [
      "[2022-11-01 13:11:07] INFO (HPO/MainThread) Parameter: {'trainer': {'max_epoch': 79, 'early_stopping_round': 14, 'lr': 0.0012055662705481014, 'weight_decay': 0.003750922137405541}, 'encoder': {}, 'decoder': {}} acc: 0.578 higher_better\n"
     ]
    },
    {
     "name": "stderr",
     "output_type": "stream",
     "text": [
      " 50%|█████     | 5/10 [00:10<00:11,  2.29s/it]WARNING:root:Ignore passed dec since enc is a whole model\n"
     ]
    },
    {
     "name": "stdout",
     "output_type": "stream",
     "text": [
      "[2022-11-01 13:11:07] WARNING (root/MainThread) Ignore passed dec since enc is a whole model\n"
     ]
    },
    {
     "name": "stderr",
     "output_type": "stream",
     "text": [
      "INFO:HPO:Parameter: {'trainer': {'max_epoch': 424, 'early_stopping_round': 27, 'lr': 0.00013559896653892123, 'weight_decay': 0.0002262985843598202}, 'encoder': {}, 'decoder': {}} acc: 0.768 higher_better\n"
     ]
    },
    {
     "name": "stdout",
     "output_type": "stream",
     "text": [
      "[2022-11-01 13:11:12] INFO (HPO/MainThread) Parameter: {'trainer': {'max_epoch': 424, 'early_stopping_round': 27, 'lr': 0.00013559896653892123, 'weight_decay': 0.0002262985843598202}, 'encoder': {}, 'decoder': {}} acc: 0.768 higher_better\n"
     ]
    },
    {
     "name": "stderr",
     "output_type": "stream",
     "text": [
      " 60%|██████    | 6/10 [00:15<00:12,  3.19s/it]WARNING:root:Ignore passed dec since enc is a whole model\n"
     ]
    },
    {
     "name": "stdout",
     "output_type": "stream",
     "text": [
      "[2022-11-01 13:11:12] WARNING (root/MainThread) Ignore passed dec since enc is a whole model\n"
     ]
    },
    {
     "name": "stderr",
     "output_type": "stream",
     "text": [
      "INFO:HPO:Parameter: {'trainer': {'max_epoch': 144, 'early_stopping_round': 10, 'lr': 0.019257124024272317, 'weight_decay': 0.0019836296689888567}, 'encoder': {}, 'decoder': {}} acc: 0.792 higher_better\n"
     ]
    },
    {
     "name": "stdout",
     "output_type": "stream",
     "text": [
      "[2022-11-01 13:11:13] INFO (HPO/MainThread) Parameter: {'trainer': {'max_epoch': 144, 'early_stopping_round': 10, 'lr': 0.019257124024272317, 'weight_decay': 0.0019836296689888567}, 'encoder': {}, 'decoder': {}} acc: 0.792 higher_better\n"
     ]
    },
    {
     "name": "stderr",
     "output_type": "stream",
     "text": [
      " 70%|███████   | 7/10 [00:16<00:07,  2.64s/it]WARNING:root:Ignore passed dec since enc is a whole model\n"
     ]
    },
    {
     "name": "stdout",
     "output_type": "stream",
     "text": [
      "[2022-11-01 13:11:13] WARNING (root/MainThread) Ignore passed dec since enc is a whole model\n"
     ]
    },
    {
     "name": "stderr",
     "output_type": "stream",
     "text": [
      "INFO:HPO:Parameter: {'trainer': {'max_epoch': 50, 'early_stopping_round': 26, 'lr': 0.0005104071650909693, 'weight_decay': 0.0013251873676161}, 'encoder': {}, 'decoder': {}} acc: 0.62 higher_better\n"
     ]
    },
    {
     "name": "stdout",
     "output_type": "stream",
     "text": [
      "[2022-11-01 13:11:14] INFO (HPO/MainThread) Parameter: {'trainer': {'max_epoch': 50, 'early_stopping_round': 26, 'lr': 0.0005104071650909693, 'weight_decay': 0.0013251873676161}, 'encoder': {}, 'decoder': {}} acc: 0.62 higher_better\n"
     ]
    },
    {
     "name": "stderr",
     "output_type": "stream",
     "text": [
      " 80%|████████  | 8/10 [00:18<00:04,  2.16s/it]WARNING:root:Ignore passed dec since enc is a whole model\n"
     ]
    },
    {
     "name": "stdout",
     "output_type": "stream",
     "text": [
      "[2022-11-01 13:11:14] WARNING (root/MainThread) Ignore passed dec since enc is a whole model\n"
     ]
    },
    {
     "name": "stderr",
     "output_type": "stream",
     "text": [
      "INFO:HPO:Parameter: {'trainer': {'max_epoch': 223, 'early_stopping_round': 14, 'lr': 0.001967720823300378, 'weight_decay': 0.001342029142639691}, 'encoder': {}, 'decoder': {}} acc: 0.734 higher_better\n"
     ]
    },
    {
     "name": "stdout",
     "output_type": "stream",
     "text": [
      "[2022-11-01 13:11:17] INFO (HPO/MainThread) Parameter: {'trainer': {'max_epoch': 223, 'early_stopping_round': 14, 'lr': 0.001967720823300378, 'weight_decay': 0.001342029142639691}, 'encoder': {}, 'decoder': {}} acc: 0.734 higher_better\n"
     ]
    },
    {
     "name": "stderr",
     "output_type": "stream",
     "text": [
      " 90%|█████████ | 9/10 [00:20<00:02,  2.19s/it]WARNING:root:Ignore passed dec since enc is a whole model\n"
     ]
    },
    {
     "name": "stdout",
     "output_type": "stream",
     "text": [
      "[2022-11-01 13:11:17] WARNING (root/MainThread) Ignore passed dec since enc is a whole model\n"
     ]
    },
    {
     "name": "stderr",
     "output_type": "stream",
     "text": [
      "INFO:HPO:Parameter: {'trainer': {'max_epoch': 55, 'early_stopping_round': 16, 'lr': 0.007265440137745814, 'weight_decay': 0.0005035581714691365}, 'encoder': {}, 'decoder': {}} acc: 0.774 higher_better\n"
     ]
    },
    {
     "name": "stdout",
     "output_type": "stream",
     "text": [
      "[2022-11-01 13:11:18] INFO (HPO/MainThread) Parameter: {'trainer': {'max_epoch': 55, 'early_stopping_round': 16, 'lr': 0.007265440137745814, 'weight_decay': 0.0005035581714691365}, 'encoder': {}, 'decoder': {}} acc: 0.774 higher_better\n"
     ]
    },
    {
     "name": "stderr",
     "output_type": "stream",
     "text": [
      "100%|██████████| 10/10 [00:21<00:00,  2.15s/it]\n",
      "INFO:HPO:Best Parameter:\n"
     ]
    },
    {
     "name": "stdout",
     "output_type": "stream",
     "text": [
      "[2022-11-01 13:11:18] INFO (HPO/MainThread) Best Parameter:\n"
     ]
    },
    {
     "name": "stderr",
     "output_type": "stream",
     "text": [
      "INFO:HPO:Parameter: {'trainer': {'max_epoch': 144, 'early_stopping_round': 10, 'lr': 0.019257124024272317, 'weight_decay': 0.0019836296689888567}, 'encoder': {}, 'decoder': {}} acc: 0.792 higher_better\n"
     ]
    },
    {
     "name": "stdout",
     "output_type": "stream",
     "text": [
      "[2022-11-01 13:11:18] INFO (HPO/MainThread) Parameter: {'trainer': {'max_epoch': 144, 'early_stopping_round': 10, 'lr': 0.019257124024272317, 'weight_decay': 0.0019836296689888567}, 'encoder': {}, 'decoder': {}} acc: 0.792 higher_better\n",
      "+--------------------------------------------------------------------------------------------------+-------+\n",
      "| name                                                                                             |   acc |\n",
      "+==================================================================================================+=======+\n",
      "| decoder: None                                                                                    | 0.792 |\n",
      "| early_stopping_round: 10                                                                         |       |\n",
      "| encoder: \"{'parameter': 92231, 'model': SinglePathNodeClassificationSpace(\\n  (op_0):\\           |       |\n",
      "|   \\ GraphConv(in=1433, out=64, normalization=both, activation=None)\\n  (op_1): GraphConv(in=64,\\ |       |\n",
      "|   \\ out=7, normalization=both, activation=None)\\n), 'selection': {'default_key_0':\\              |       |\n",
      "|   \\ 0, 'default_key_1': 0}}\"                                                                     |       |\n",
      "| learning_rate: 0.019257124024272317                                                              |       |\n",
      "| max_epoch: 144                                                                                   |       |\n",
      "| optimizer: !!python/name:torch.optim.adam.Adam ''                                                |       |\n",
      "| trainer_name: NodeClassificationFullTrainer                                                      |       |\n",
      "| _idx0                                                                                            |       |\n",
      "+--------------------------------------------------------------------------------------------------+-------+\n"
     ]
    },
    {
     "name": "stderr",
     "output_type": "stream",
     "text": [
      "INFO:NodeClassifier:Ensemble argument on, will try using ensemble model.\n"
     ]
    },
    {
     "name": "stdout",
     "output_type": "stream",
     "text": [
      "[2022-11-01 13:11:18] INFO (NodeClassifier/MainThread) Ensemble argument on, will try using ensemble model.\n"
     ]
    },
    {
     "name": "stderr",
     "output_type": "stream",
     "text": [
      "WARNING:NodeClassifier:Cannot use ensemble because no ensebmle module is given. Will use best model instead.\n"
     ]
    },
    {
     "name": "stdout",
     "output_type": "stream",
     "text": [
      "[2022-11-01 13:11:18] WARNING (NodeClassifier/MainThread) Cannot use ensemble because no ensebmle module is given. Will use best model instead.\n",
      "acc on dataset 0.786\n"
     ]
    }
   ],
   "source": [
    "solver.fit(dataset)\n",
    "solver.get_leaderboard().show()\n",
    "acc = solver.evaluate(metric=\"acc\")\n",
    "print('acc on dataset', acc)"
   ]
  }
 ],
 "metadata": {
  "kernelspec": {
   "display_name": "Python 3.6.13 ('agt')",
   "language": "python",
   "name": "python3"
  },
  "language_info": {
   "codemirror_mode": {
    "name": "ipython",
    "version": 3
   },
   "file_extension": ".py",
   "mimetype": "text/x-python",
   "name": "python",
   "nbconvert_exporter": "python",
   "pygments_lexer": "ipython3",
   "version": "3.6.13"
  },
  "orig_nbformat": 4,
  "vscode": {
   "interpreter": {
    "hash": "bba22225c67a08ded0a9a5bb82ed9123291c5bd079484968d544cc039c49885c"
   }
  }
 },
 "nbformat": 4,
 "nbformat_minor": 2
}
